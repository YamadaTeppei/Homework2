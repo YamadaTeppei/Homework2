{
 "cells": [
  {
   "cell_type": "markdown",
   "metadata": {},
   "source": [
    "# NumPy & Matplotlib Excercises\n",
    "\n",
    "NumPyとMatplotlibの理解度を深めるために、以下の問題を解いてみましょう. "
   ]
  },
  {
   "cell_type": "markdown",
   "metadata": {},
   "source": [
    "#### 1. NumPyとMatplotlibをインポートしましょう."
   ]
  },
  {
   "cell_type": "code",
   "execution_count": 2,
   "metadata": {},
   "outputs": [],
   "source": [
    "import numpy as np\n",
    "import matplotlib.pyplot as plt"
   ]
  },
  {
   "cell_type": "markdown",
   "metadata": {},
   "source": [
    "#### 2. 全ての要素がint型の1で, サイズが20の配列を作成してください."
   ]
  },
  {
   "cell_type": "code",
   "execution_count": 4,
   "metadata": {},
   "outputs": [
    {
     "name": "stdout",
     "output_type": "stream",
     "text": [
      "[1. 1. 1. 1. 1. 1. 1. 1. 1. 1. 1. 1. 1. 1. 1. 1. 1. 1. 1. 1.]\n"
     ]
    }
   ],
   "source": [
    "arr = np.ones(20)\n",
    "print(arr)"
   ]
  },
  {
   "cell_type": "markdown",
   "metadata": {},
   "source": [
    "#### 3. 上記で作成した配列のメモリーサイズを計算してください."
   ]
  },
  {
   "cell_type": "code",
   "execution_count": 224,
   "metadata": {},
   "outputs": [
    {
     "data": {
      "text/plain": [
       "176"
      ]
     },
     "execution_count": 224,
     "metadata": {},
     "output_type": "execute_result"
    }
   ],
   "source": [
    "import sys\n",
    "sys.getsizeof(arr)"
   ]
  },
  {
   "cell_type": "markdown",
   "metadata": {},
   "source": [
    "#### 4. 0から8までの整数から構成される3×3の配列を作成してください."
   ]
  },
  {
   "cell_type": "code",
   "execution_count": 12,
   "metadata": {},
   "outputs": [
    {
     "name": "stdout",
     "output_type": "stream",
     "text": [
      "[[0 1 2]\n",
      " [3 4 5]\n",
      " [6 7 8]]\n"
     ]
    }
   ],
   "source": [
    "arr = np.array([[0, 1, 2], [3, 4, 5], [6, 7, 8]])\n",
    "print(arr)"
   ]
  },
  {
   "cell_type": "markdown",
   "metadata": {},
   "source": [
    "#### 5. 0から100までの値の中からランダムに選ばれた10個の値から構成される,  2×5×1の配列を作成してください."
   ]
  },
  {
   "cell_type": "code",
   "execution_count": 32,
   "metadata": {},
   "outputs": [
    {
     "name": "stdout",
     "output_type": "stream",
     "text": [
      "[[36 57 10 90 57]\n",
      " [16 62 77 22 35]]\n"
     ]
    }
   ],
   "source": [
    "arr = np.random.randint(0, 100, 10).reshape(2,5)\n",
    "print(arr)"
   ]
  },
  {
   "cell_type": "markdown",
   "metadata": {},
   "source": [
    "#### 6. 以下の2つの配列を横方向に結合してください."
   ]
  },
  {
   "cell_type": "code",
   "execution_count": 22,
   "metadata": {},
   "outputs": [],
   "source": [
    "a = np.linspace(0, 20, 10).reshape(2, 5)\n",
    "b = np.linspace(20, 40, 10).reshape(2, 5)"
   ]
  },
  {
   "cell_type": "code",
   "execution_count": 28,
   "metadata": {},
   "outputs": [
    {
     "name": "stdout",
     "output_type": "stream",
     "text": [
      "[[ 0.          2.22222222  4.44444444  6.66666667  8.88888889]\n",
      " [11.11111111 13.33333333 15.55555556 17.77777778 20.        ]]\n",
      "[[20.         22.22222222 24.44444444 26.66666667 28.88888889]\n",
      " [31.11111111 33.33333333 35.55555556 37.77777778 40.        ]]\n",
      "[[ 0.          2.22222222  4.44444444  6.66666667  8.88888889 20.\n",
      "  22.22222222 24.44444444 26.66666667 28.88888889]\n",
      " [11.11111111 13.33333333 15.55555556 17.77777778 20.         31.11111111\n",
      "  33.33333333 35.55555556 37.77777778 40.        ]]\n"
     ]
    }
   ],
   "source": [
    "print(a)\n",
    "print(b)\n",
    "arr = np.hstack([a, b])\n",
    "print(arr)"
   ]
  },
  {
   "cell_type": "markdown",
   "metadata": {},
   "source": [
    "#### 7. 以下の2つの配列を1次元ベクトルに直し、昇順に並び替えてください."
   ]
  },
  {
   "cell_type": "code",
   "execution_count": 29,
   "metadata": {},
   "outputs": [],
   "source": [
    "c = np.array([[1, 2, 3], [4, 5, 6]])\n",
    "d = np.array([[10, 9], [8, 7]])"
   ]
  },
  {
   "cell_type": "code",
   "execution_count": 54,
   "metadata": {},
   "outputs": [
    {
     "name": "stdout",
     "output_type": "stream",
     "text": [
      "[ 1  2  3 10  9  4  5  6  8  7]\n",
      "[ 1  2  3  4  5  6  7  8  9 10]\n"
     ]
    }
   ],
   "source": [
    "arr = np.hstack([c, d]).ravel()\n",
    "print(arr)\n",
    "arr = np.sort(arr)\n",
    "print(arr)"
   ]
  },
  {
   "cell_type": "markdown",
   "metadata": {},
   "source": [
    "#### 8. 以下の配列の中で11番目に大きい値を取り出してください."
   ]
  },
  {
   "cell_type": "code",
   "execution_count": 56,
   "metadata": {},
   "outputs": [],
   "source": [
    "e = np.random.randint(0, 100000, 10000)"
   ]
  },
  {
   "cell_type": "code",
   "execution_count": 59,
   "metadata": {},
   "outputs": [
    {
     "name": "stdout",
     "output_type": "stream",
     "text": [
      "99866\n"
     ]
    }
   ],
   "source": [
    "e = np.sort(e)[::-1]\n",
    "print(e[11])"
   ]
  },
  {
   "cell_type": "markdown",
   "metadata": {},
   "source": [
    "#### 9. ランダムウォーク(次に移動する位置がランダムに決定される運動のこと)をPython及びNumPyで表現してみましょう.  \n",
    "ポジションは0から始め, Nステップ後までの毎移動(動く方向は+1もしくは-1)ごとのポジションをリスト形式で返す関数 **randomWalk()** を定義してください.  \n",
    "\n",
    "e.g.)  \n",
    "Input: 10 - Output: [0, -1, -2, -3, -4, -3, -2, -3, -2, -3, -2]"
   ]
  },
  {
   "cell_type": "code",
   "execution_count": 146,
   "metadata": {},
   "outputs": [],
   "source": [
    "# Python (without NumPy; use Python's random library)\n",
    "def randomWalk(step):\n",
    "    import random\n",
    "    position = 0\n",
    "    a = (1, -1)\n",
    "    for i in range(step):\n",
    "        print(position, end=\" \")\n",
    "        position += random.choices(a)[0]\n",
    "    print(position)\n",
    "    return position"
   ]
  },
  {
   "cell_type": "markdown",
   "metadata": {},
   "source": [
    "上記のメソッドを,  Pythonの **itertools.accumulate()** , **random.choices()** メソッドを用いてループを使わずに書き換えてみましょう. "
   ]
  },
  {
   "cell_type": "code",
   "execution_count": 143,
   "metadata": {},
   "outputs": [],
   "source": [
    "# Python (without NumPy or loops)\n",
    "def randomWalkVecterizaton(step):\n",
    "    import random, itertools\n",
    "    position = [0]*step\n",
    "    a = (1, -1)\n",
    "    position = list(itertools.accumulate(position,lambda x,y: x+random.choices(a)[0]))\n",
    "    print(position)\n",
    "    return (position[step-1])"
   ]
  },
  {
   "cell_type": "markdown",
   "metadata": {},
   "source": [
    "上記のメソッドを, NumPyを用いて書き換えてみましょう."
   ]
  },
  {
   "cell_type": "code",
   "execution_count": 164,
   "metadata": {},
   "outputs": [],
   "source": [
    "def randomWalkNumPy(step):\n",
    "    import random, itertools\n",
    "    position = np.zeros(step)\n",
    "    a = (1, -1)\n",
    "    position = np.array(list(itertools.accumulate(position,lambda x,y: x+random.choices(a)[0])))\n",
    "    print(position)\n",
    "    return (position[step-1])"
   ]
  },
  {
   "cell_type": "markdown",
   "metadata": {},
   "source": [
    "最後に, Pythonのtimeモジュールを用いて, 上記の3つのメソッドの実行時間を比較してみましょう."
   ]
  },
  {
   "cell_type": "code",
   "execution_count": 165,
   "metadata": {},
   "outputs": [
    {
     "name": "stdout",
     "output_type": "stream",
     "text": [
      "0 1 2 1 0 1 2 1 2 1 0\n",
      "0\n",
      "time: 0.0008208751678466797\n",
      "[0, 1, 2, 3, 2, 3, 4, 3, 4, 5]\n",
      "5\n",
      "time: 0.0005660057067871094\n",
      "[ 0. -1.  0. -1. -2. -3. -4. -5. -6. -7.]\n",
      "-7.0\n",
      "time: 0.0056378841400146484\n"
     ]
    }
   ],
   "source": [
    "import time\n",
    "start = time.time()\n",
    "print(randomWalk(10))\n",
    "end = time.time()\n",
    "print('time:', end - start)\n",
    "\n",
    "start = time.time()\n",
    "print(randomWalkVecterizaton(10))\n",
    "end = time.time()\n",
    "print('time:', end - start)\n",
    "\n",
    "start = time.time()\n",
    "print(randomWalkNumPy(10))\n",
    "end = time.time()\n",
    "print('time:', end - start)\n"
   ]
  },
  {
   "cell_type": "markdown",
   "metadata": {},
   "source": [
    "#### 10. sin関数とcos関数のグラフを同じプロット上に描画してください. ただし, 色・軸の場所・メモリの打ち方などは, 画像の通りにしてください."
   ]
  },
  {
   "cell_type": "code",
   "execution_count": 223,
   "metadata": {},
   "outputs": [
    {
     "data": {
      "image/png": "[encoded data removed]",
      "text/plain": [
       "<Figure size 432x288 with 1 Axes>"
      ]
     },
     "metadata": {
      "needs_background": "light"
     },
     "output_type": "display_data"
    }
   ],
   "source": [
    "x = np.linspace(-np.pi, np.pi, 201)\n",
    "fig, ax = plt.subplots()\n",
    "ax.plot(x, np.sin(x), color=\"red\",  label=\"sine\")\n",
    "ax.plot(x, np.cos(x), color=\"blue\", label=\"cosine\")\n",
    "ax.spines['bottom'].set_position(('data', 0))\n",
    "ax.spines['left'].set_position(('data', 0))\n",
    "ax.spines['right'].set_visible(False)\n",
    "ax.spines['top'].set_visible(False)\n",
    "plt.xticks([-np.pi, -np.pi/2, 0, np.pi/2, np.pi])  \n",
    "ax.set_xticklabels([ \"-π\", \"-π/2\", \"0\", \"+π/2\", \"+π\"])\n",
    "plt.yticks([-1, -0.5, 0, 0.5, +1]) \n",
    "ax.set_yticklabels([ \"-1\", \"-0.5\", \"0\", \"0.5\", \"+1\"])\n",
    "ax.legend()\n",
    "plt.show()"
   ]
  },
  {
   "cell_type": "code",
   "execution_count": null,
   "metadata": {},
   "outputs": [],
   "source": []
  }
 ],
 "metadata": {
  "kernelspec": {
   "display_name": "Python 3",
   "language": "python",
   "name": "python3"
  },
  "language_info": {
   "codemirror_mode": {
    "name": "ipython",
    "version": 3
   },
   "file_extension": ".py",
   "mimetype": "text/x-python",
   "name": "python",
   "nbconvert_exporter": "python",
   "pygments_lexer": "ipython3",
   "version": "3.7.4"
  }
 },
 "nbformat": 4,
 "nbformat_minor": 2
}
